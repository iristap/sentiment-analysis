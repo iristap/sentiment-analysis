{
 "cells": [
  {
   "cell_type": "markdown",
   "metadata": {},
   "source": [
    "conda install openpyxl"
   ]
  },
  {
   "cell_type": "code",
   "execution_count": 46,
   "metadata": {},
   "outputs": [],
   "source": [
    "import pandas as pd  \n",
    "from datetime import datetime, timedelta\n",
    "import re\n",
    "import os\n",
    "from pythainlp.tokenize import word_tokenize\n",
    "from pythainlp.corpus.common import thai_words"
   ]
  },
  {
   "cell_type": "code",
   "execution_count": 47,
   "metadata": {},
   "outputs": [],
   "source": [
    "#กำหนด input file / ชื่อ output file\n",
    "input='Biore UV Aqua Rich Watery Essence_20240924_192601.csv'\n",
    "output='Biore UV Aqua Rich Watery Essence'"
   ]
  },
  {
   "cell_type": "code",
   "execution_count": 48,
   "metadata": {},
   "outputs": [],
   "source": [
    "def convert_date(date_str, file_date):\n",
    "    # แปลงวันที่จากชื่อไฟล์\n",
    "    file_date = datetime.strptime(file_date, '%Y%m%d')\n",
    "    \n",
    "    # กรณีที่มีคำว่า 'ก่อน'\n",
    "    if 'ก่อน' in date_str:\n",
    "        value, unit = date_str.split()[:2]\n",
    "        value = int(value)\n",
    "        \n",
    "        if unit in ['วินาทีก่อน', 'นาทีก่อน', 'ชั่วโมงก่อน']:\n",
    "            return file_date.strftime('%Y%m%d')\n",
    "        elif unit == 'วันก่อน':\n",
    "            return (file_date - timedelta(days=value)).strftime('%Y-%m-%d')\n",
    "        elif unit == 'สัปดาห์ก่อน':\n",
    "            return (file_date - timedelta(weeks=value)).strftime('%Y-%m-%d')\n",
    "    \n",
    "    month_dict = {\n",
    "        'ม.ค.': '01', 'ก.พ.': '02', 'มี.ค.': '03', 'เม.ย.': '04',\n",
    "        'พ.ค.': '05', 'มิ.ย.': '06', 'ก.ค.': '07', 'ส.ค.': '08',\n",
    "        'ก.ย.': '09', 'ต.ค.': '10', 'พ.ย.': '11', 'ธ.ค.': '12'\n",
    "    }\n",
    "    \n",
    "    parts = date_str.split()\n",
    "    if len(parts) == 3 and parts[1] in month_dict:\n",
    "        day, month, year = parts\n",
    "        return f\"{year}-{month_dict[month]}-{int(day):02d}\"\n",
    "    \n",
    "    return date_str\n",
    "\n",
    "def process_dataframe(file_path):\n",
    "    # อ่านไฟล์ CSV\n",
    "    df = pd.read_csv(file_path)\n",
    "    \n",
    "    # แยกวันที่จากชื่อไฟล์\n",
    "    file_date = file_path.split('_')[-2]\n",
    "    \n",
    "    # แปลงคอลัมน์ date\n",
    "    df['date'] = df['date'].apply(lambda x: convert_date(x, file_date))\n",
    "    \n",
    "    return df\n"
   ]
  },
  {
   "cell_type": "code",
   "execution_count": null,
   "metadata": {},
   "outputs": [],
   "source": [
    "df = process_dataframe(input)\n",
    "print(df)"
   ]
  },
  {
   "cell_type": "code",
   "execution_count": null,
   "metadata": {},
   "outputs": [],
   "source": [
    "df.dtypes"
   ]
  },
  {
   "cell_type": "code",
   "execution_count": 50,
   "metadata": {},
   "outputs": [],
   "source": [
    "# ฟังก์ชันลบข้อมูลที่ไม่ใช่ภาษาไทย\n",
    "def clean_review(text):\n",
    "    # ลบอีโมจิ, ภาษาอังกฤษ, สัญลักษณ์พิเศษ, และช่องว่างเกินจำเป็น โดยคงไว้เฉพาะตัวเลขและภาษาไทย\n",
    "    cleaned_text = re.sub(r'[^\\u0E00-\\u0E7F0-9\\s]', '', text)  # คงภาษาไทยและตัวเลข\n",
    "    cleaned_text = re.sub(r'\\s+', ' ', cleaned_text).strip()  # ลบช่องว่างเกินและช่องว่างหน้าหลัง\n",
    "    return cleaned_text\n",
    "\n",
    "# ใช้ฟังก์ชัน clean_review กับคอลัมน์ review_text\n",
    "df['review_text'] = df['review_text'].apply(lambda x: clean_review(str(x)))"
   ]
  },
  {
   "cell_type": "code",
   "execution_count": null,
   "metadata": {},
   "outputs": [],
   "source": [
    "df"
   ]
  },
  {
   "cell_type": "code",
   "execution_count": 52,
   "metadata": {},
   "outputs": [],
   "source": [
    "# ลบการขึ้นบรรทัดใหม่ใน review_text และทำให้ข้อความอยู่ในบรรทัดเดียวกัน\n",
    "df['review_text'] = df['review_text'].apply(lambda x: str(x).replace('\\n', ' ').strip())"
   ]
  },
  {
   "cell_type": "code",
   "execution_count": null,
   "metadata": {},
   "outputs": [],
   "source": [
    "# แก้ไขคำที่ผิดปกติ หรือเขียนผิดซ้ำบ่อยๆ\n",
    "# โหลดฐานข้อมูลคำพื้นฐาน\n",
    "word_list = set(thai_words())\n",
    "\n",
    "def is_meaningful(word):\n",
    "    # เพิ่มการตรวจสอบคำที่มีรูปแบบพิเศษ\n",
    "    special_patterns = [\n",
    "        r'^[ก-ฮ]+$',  # คำภาษาไทยทั่วไป\n",
    "        r'^[ก-ฮ]+ๆ$',  # คำซ้ำ เช่น ดีๆ เร็วๆ\n",
    "        r'^[ก-ฮ]+[ุึ][ปบ]$',  # คำลงท้ายด้วย ุป, ึป, ุบ, ึบ เช่น ปุ๊ป, ปั๊บ\n",
    "        r'^แพ[็ค]$',  # คำว่า แพ็ค หรือ แพค\n",
    "        r'^[ก-ฮ]{1,2}่[ก-ฮ]$',  # คำสั้นๆ ที่มีวรรณยุกต์ เช่น ค่ะ ไว\n",
    "        r'^[0-9๐-๙]+$',  # ตัวเลข\n",
    "        r'^[a-zA-Z]+$',  # คำภาษาอังกฤษ\n",
    "    ]\n",
    "    \n",
    "    return (word in word_list or\n",
    "            any(re.match(pattern, word) for pattern in special_patterns))\n",
    "\n",
    "def clean_text(text):\n",
    "    # แยกคำ\n",
    "    words = word_tokenize(text)\n",
    "    \n",
    "    # แทนที่คำที่ไม่มีความหมายด้วยช่องว่าง\n",
    "    cleaned_words = [word if is_meaningful(word) else ' ' for word in words]\n",
    "    \n",
    "    # รวมคำกลับเป็นประโยค\n",
    "    cleaned_text = ''.join(cleaned_words)\n",
    "    \n",
    "    # ลบช่องว่างซ้ำ\n",
    "    cleaned_text = re.sub(r'\\s+', ' ', cleaned_text)\n",
    "    \n",
    "    # ลบช่องว่างที่ไม่จำเป็นตอนต้นและท้ายข้อความ\n",
    "    cleaned_text = cleaned_text.strip()\n",
    "    \n",
    "    return cleaned_text"
   ]
  },
  {
   "cell_type": "code",
   "execution_count": 54,
   "metadata": {},
   "outputs": [],
   "source": [
    "df['review_text'] = df['review_text'].apply(clean_text)"
   ]
  },
  {
   "cell_type": "code",
   "execution_count": 55,
   "metadata": {},
   "outputs": [],
   "source": [
    "# ลบแถวที่ review_text ว่าง (ที่ไม่มีข้อมูลภาษาไทยหรือเป็นช่องว่าง)\n",
    "df_cleaned = df[df['review_text'].astype(bool)].copy()"
   ]
  },
  {
   "cell_type": "code",
   "execution_count": null,
   "metadata": {},
   "outputs": [],
   "source": [
    "df_cleaned"
   ]
  },
  {
   "cell_type": "code",
   "execution_count": 57,
   "metadata": {},
   "outputs": [],
   "source": [
    "# รีเซ็ตเลขลำดับคอลัมน์ 'no' ใน DataFrame ที่ผ่านการตรวจสอบ\n",
    "df_cleaned = df_cleaned.reset_index(drop=True)\n",
    "df_cleaned['no'] = df_cleaned.index + 1"
   ]
  },
  {
   "cell_type": "code",
   "execution_count": null,
   "metadata": {},
   "outputs": [],
   "source": [
    "df_cleaned"
   ]
  },
  {
   "cell_type": "code",
   "execution_count": 81,
   "metadata": {},
   "outputs": [],
   "source": [
    "if not os.path.exists('CleanDataCSV'):\n",
    "    os.makedirs('CleanDataCSV')\n",
    "if not os.path.exists('CleanDataExel'):\n",
    "    os.makedirs('CleanDataExel')"
   ]
  },
  {
   "cell_type": "code",
   "execution_count": 27,
   "metadata": {},
   "outputs": [],
   "source": [
    "# บันทึก DataFrame ลงไฟล์ CSV\n",
    "csv_file = f'CleanDataCSV/{output}.csv'\n",
    "df_cleaned.to_csv(csv_file, index=False)\n",
    "\n",
    "# บันทึก DataFrame ลงไฟล์ Excel\n",
    "excel_file = f'CleanDataExel/{output}.xlsx'\n",
    "df_cleaned.to_excel(excel_file, index=False)"
   ]
  }
 ],
 "metadata": {
  "kernelspec": {
   "display_name": "DE",
   "language": "python",
   "name": "python3"
  },
  "language_info": {
   "codemirror_mode": {
    "name": "ipython",
    "version": 3
   },
   "file_extension": ".py",
   "mimetype": "text/x-python",
   "name": "python",
   "nbconvert_exporter": "python",
   "pygments_lexer": "ipython3",
   "version": "3.12.4"
  }
 },
 "nbformat": 4,
 "nbformat_minor": 2
}
