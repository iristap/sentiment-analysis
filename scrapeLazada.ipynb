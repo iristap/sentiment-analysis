{
 "cells": [
  {
   "cell_type": "markdown",
   "metadata": {},
   "source": [
    "# Scrape Data from Lazada with beautifulsoup and selenium\n",
    "- shop, name, rating, date, review_text"
   ]
  },
  {
   "cell_type": "markdown",
   "metadata": {},
   "source": [
    "!pip install selenium\n",
    "!pip install bs4\n",
    "!pip install pandas"
   ]
  },
  {
   "cell_type": "markdown",
   "metadata": {},
   "source": [
    "# Code ที่ต้อง Import"
   ]
  },
  {
   "cell_type": "code",
   "execution_count": 21,
   "metadata": {},
   "outputs": [],
   "source": [
    "import pandas as pd\n",
    "from selenium import webdriver\n",
    "from selenium.webdriver.support.ui import WebDriverWait\n",
    "from selenium.webdriver.support import expected_conditions as EC\n",
    "from selenium.webdriver.chrome.service import Service\n",
    "from selenium.webdriver.chrome.options import Options\n",
    "from selenium.webdriver.common.by import By\n",
    "from selenium.webdriver.common.keys import Keys\n",
    "import os  \n",
    "from datetime import datetime \n",
    "import bs4\n",
    "import time\n",
    "import re\n",
    "import random"
   ]
  },
  {
   "cell_type": "code",
   "execution_count": 48,
   "metadata": {},
   "outputs": [],
   "source": [
    "#กำหนดตัวแปร\n",
    "#link ที่ต้องการดึงข้อมูล\n",
    "link = 'https://www.lazada.co.th/products/40-biore-uv-perfect-milk-spf50-pa-40ml-i228864767-s349752616.html?c=&channelLpJumpArgs=&clickTrackInfo=query%3ABiore%2BUV%2BPerfect%2BMilk%3Bnid%3A228864767%3Bsrc%3ALazadaMainSrp%3Brn%3Aa70469eeccfc5be1b1decd1b165901cc%3Bregion%3Ath%3Bsku%3A228864767_TH%3Bprice%3A229%3Bclient%3Adesktop%3Bsupplier_id%3A100148596%3Bbiz_source%3Ah5_internal%3Bslot%3A5%3Butlog_bucket_id%3A470687%3Basc_category_id%3A5885%3Bitem_id%3A228864767%3Bsku_id%3A349752616%3Bshop_id%3A174773%3BtemplateInfo%3A107882_C_D_E%231103_B_L%23-1_A3%23&freeshipping=1&fs_ab=2&fuse_fs=&lang=en&location=Samut%20Prakan&price=229&priceCompare=skuId%3A349752616%3Bsource%3Alazada-search-voucher%3Bsn%3Aa70469eeccfc5be1b1decd1b165901cc%3BunionTrace%3A2ff6089817278003637818185e%3BoriginPrice%3A22900%3BvoucherPrice%3A22900%3BdisplayPrice%3A22900%3BsinglePromotionId%3A900000037044063%3BsingleToolCode%3ApromPrice%3BvoucherPricePlugin%3A1%3BbuyerId%3A0%3Btimestamp%3A1727800364102&ratingscore=4.940058479532164&request_id=a70469eeccfc5be1b1decd1b165901cc&review=442&sale=4363&search=1&source=search&spm=a2o4m.searchlist.list.5&stock=1'\n",
    "#ชื่อ file output ใส่ชื่อผลิตภัณฑ์\n",
    "output = 'Biore UV Perfect Milk'\n",
    "# Set up Chrome binary_location\n",
    "location = 'C:\\\\Program Files\\\\Google\\\\Chrome\\\\Application\\\\chrome.exe'\n",
    "#the service path to ChromeDriver\n",
    "service_path = r'D:\\Git\\Text-Sentiment-Analysis\\chromedriver.exe'"
   ]
  },
  {
   "cell_type": "code",
   "execution_count": 49,
   "metadata": {},
   "outputs": [],
   "source": [
    "# Set up Chrome options\n",
    "options = Options()\n",
    "options.binary_location = location\n",
    "\n",
    "# Specify the path to ChromeDriver\n",
    "service = Service(service_path)\n",
    "\n",
    "driver = webdriver.Chrome(service=service, options=options)\n",
    "\n",
    "# Open lazada website\n",
    "driver.get(link)"
   ]
  },
  {
   "cell_type": "code",
   "execution_count": 50,
   "metadata": {},
   "outputs": [],
   "source": [
    "#Zoom out เพื่อให้ load ทั่วหน้าจอ\n",
    "driver.execute_script(\"document.body.style.zoom='10%'\")"
   ]
  },
  {
   "cell_type": "code",
   "execution_count": 30,
   "metadata": {},
   "outputs": [],
   "source": [
    "records=[]"
   ]
  },
  {
   "cell_type": "code",
   "execution_count": null,
   "metadata": {},
   "outputs": [],
   "source": [
    "# การ Scrape ข้อมูลจากหลายหน้าของ Web Shopee\n",
    "for i in range(7):\n",
    "    data = driver.page_source\n",
    "    soup = bs4.BeautifulSoup(data)\n",
    "    el=soup.select(\"#module_product_review > div > div > div:nth-child(3) > div.mod-reviews > div\")\n",
    "    # Define star rating image sources\n",
    "    src_plus_one = \"//img.lazcdn.com/g/tps/tfs/TB19ZvEgfDH8KJjy1XcXXcpdXXa-64-64.png\"\n",
    "    src_plus_zero = \"//img.lazcdn.com/g/tps/tfs/TB18ZvEgfDH8KJjy1XcXXcpdXXa-64-64.png\"\n",
    "\n",
    "    # Extract shop \n",
    "    shop_element = soup.select_one(\"#module_seller_info > div > div.seller-name-retail > div.seller-name__wrapper > div.seller-name__detail > a.pdp-link.pdp-link_size_l.pdp-link_theme_black.seller-name__detail-name\")\n",
    "    shop = shop_element.text.strip() if shop_element else \"\"\n",
    "\n",
    "    for e in el:\n",
    "\n",
    "        # Extract review text\n",
    "        review = e.select_one(\"#module_product_review > div > div > div:nth-child(3) > div.mod-reviews > div > div.item-content > div.content\")\n",
    "        review_text = review.text.strip() if review else \"\"\n",
    "\n",
    "        # Extract and calculate rating\n",
    "        stars = e.select_one('#module_product_review > div > div > div:nth-child(3) > div.mod-reviews > div > div.top > div')\n",
    "        rating = 0\n",
    "        if stars:\n",
    "            for star in stars.find_all('img'):\n",
    "                if star['src'] == src_plus_one:\n",
    "                    rating += 1\n",
    "                elif star['src'] == src_plus_zero:\n",
    "                    rating += 0\n",
    "\n",
    "        # Extract review date\n",
    "        date_element = e.select_one('#module_product_review > div > div > div:nth-child(3) > div.mod-reviews > div > div.top > span')\n",
    "        date = date_element.text.strip() if date_element else \"\"\n",
    "\n",
    "        # Extract reviewer name\n",
    "        name_element = e.select_one('#module_product_review > div > div > div:nth-child(3) > div.mod-reviews > div > div.middle > span:nth-child(1)')\n",
    "        name = name_element.text.strip() if name_element else \"\"\n",
    "\n",
    "        # Append the extracted data to records\n",
    "        records.append([shop, name, rating, date, review_text])\n",
    "\n",
    "    wait = WebDriverWait(driver, 20)\n",
    "    next_button = wait.until(EC.element_to_be_clickable((By.XPATH, '/html/body/div[4]/div/div[10]/div[1]/div[2]/div/div/div/div[3]/div[2]/div/button[2]')))\n",
    "    next_button.click()\n",
    "    time.sleep(random.uniform(10, 20))\n",
    "    print(i) #print loop\n"
   ]
  },
  {
   "cell_type": "code",
   "execution_count": null,
   "metadata": {},
   "outputs": [],
   "source": [
    "records"
   ]
  },
  {
   "cell_type": "code",
   "execution_count": null,
   "metadata": {},
   "outputs": [],
   "source": [
    "len(records)"
   ]
  },
  {
   "cell_type": "code",
   "execution_count": 54,
   "metadata": {},
   "outputs": [],
   "source": [
    "#เลือก filter_sort review1\n",
    "wait = WebDriverWait(driver, 20)\n",
    "filterStar = wait.until(EC.presence_of_element_located((By.XPATH, '/html/body/div[4]/div/div[10]/div[1]/div[2]/div/div/div/div[2]/div/div[2]')))\n",
    "filterStar.click()"
   ]
  },
  {
   "cell_type": "code",
   "execution_count": null,
   "metadata": {},
   "outputs": [],
   "source": [
    "#เลือก sort เป็นดาวน้อยไปดาวมาก\n",
    "selectStar = wait.until(EC.element_to_be_clickable((By.XPATH, '/html/body/div[9]/div/div/ul/li[4]')))\n",
    "selectStar.click()"
   ]
  },
  {
   "cell_type": "code",
   "execution_count": 58,
   "metadata": {},
   "outputs": [],
   "source": [
    "# สร้าง DataFrame และเพิ่มลำดับแถว\n",
    "df = pd.DataFrame(records, columns=['shop', 'name', 'rating', 'date', 'review_text'])\n",
    "\n",
    "# เพิ่มคอลัมน์ลำดับแถว (Row Index) โดยใช้ range\n",
    "df['no'] = range(1, len(df) + 1)\n",
    "\n",
    "# แสดง DataFrame ที่มีลำดับแถว\n",
    "df = df[['no', 'shop', 'name', 'rating', 'date', 'review_text']]\n"
   ]
  },
  {
   "cell_type": "code",
   "execution_count": 59,
   "metadata": {},
   "outputs": [],
   "source": [
    "# รับเวลาปัจจุบัน  \n",
    "current_time = datetime.now().strftime(\"%Y%m%d_%H%M%S\")"
   ]
  },
  {
   "cell_type": "code",
   "execution_count": null,
   "metadata": {},
   "outputs": [],
   "source": [
    "if not os.path.exists('RawDataCSV'):\n",
    "    os.makedirs('RawDataCSV')\n",
    "if not os.path.exists('RawDataExel'):\n",
    "    os.makedirs('RawDataExel')"
   ]
  },
  {
   "cell_type": "code",
   "execution_count": 60,
   "metadata": {},
   "outputs": [],
   "source": [
    "# บันทึก DataFrame ลงไฟล์ CSV\n",
    "csv_file = f'RawDataCSV/{output}_{current_time}.csv'\n",
    "df.to_csv(csv_file, index=False)\n",
    "\n",
    "# บันทึก DataFrame ลงไฟล์ Excel\n",
    "excel_file = f'RawDataExel/{output}_{current_time}.xlsx'\n",
    "df.to_excel(excel_file, index=False)"
   ]
  }
 ],
 "metadata": {
  "kernelspec": {
   "display_name": "DE",
   "language": "python",
   "name": "python3"
  },
  "language_info": {
   "codemirror_mode": {
    "name": "ipython",
    "version": 3
   },
   "file_extension": ".py",
   "mimetype": "text/x-python",
   "name": "python",
   "nbconvert_exporter": "python",
   "pygments_lexer": "ipython3",
   "version": "3.12.4"
  },
  "orig_nbformat": 4
 },
 "nbformat": 4,
 "nbformat_minor": 2
}
